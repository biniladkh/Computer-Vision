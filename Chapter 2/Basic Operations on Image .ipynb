{
 "cells": [
  {
   "cell_type": "code",
   "execution_count": 8,
   "id": "9695de0c",
   "metadata": {},
   "outputs": [
    {
     "data": {
      "text/plain": [
       "-1"
      ]
     },
     "execution_count": 8,
     "metadata": {},
     "output_type": "execute_result"
    }
   ],
   "source": [
    "import cv2                                                # Importing opencv\n",
    "import numpy as np                                        # Importing numpy with np as alias\n",
    "kernel  = np.ones((5,5),np.uint8)                         # Creating 5*5 matrix with all ones\n",
    "img = cv2.imread('lena.png')                              # Reading the image\n",
    "imgGray = cv2.cvtColor(img,cv2.COLOR_BGR2GRAY)            # Converting image to grayscale\n",
    "imgCanny = cv2.Canny(imgGray,150,200)                     # Detecting edges usign canny edge detector\n",
    "imgDilate = cv2.dilate(imgCanny,kernel,iterations=1)      # Performing imag\n",
    "imgErode = cv2.erode(imgDilate,kernel,iterations=1)\n",
    "cv2.imshow('Image',img)\n",
    "cv2.imshow('Gray Image',imgGray)\n",
    "cv2.imshow('Canny Image',imgCanny)\n",
    "cv2.imshow('Dilated Image',imgDilate)\n",
    "cv2.imshow('Eroded Image',imgErode)\n",
    "cv2.waitKey(0)"
   ]
  },
  {
   "cell_type": "code",
   "execution_count": null,
   "id": "bf629e5b",
   "metadata": {},
   "outputs": [],
   "source": []
  }
 ],
 "metadata": {
  "kernelspec": {
   "display_name": "Python 3 (ipykernel)",
   "language": "python",
   "name": "python3"
  },
  "language_info": {
   "codemirror_mode": {
    "name": "ipython",
    "version": 3
   },
   "file_extension": ".py",
   "mimetype": "text/x-python",
   "name": "python",
   "nbconvert_exporter": "python",
   "pygments_lexer": "ipython3",
   "version": "3.9.9"
  }
 },
 "nbformat": 4,
 "nbformat_minor": 5
}
