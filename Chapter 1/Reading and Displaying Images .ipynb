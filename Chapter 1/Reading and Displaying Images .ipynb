{
 "cells": [
  {
   "cell_type": "code",
   "execution_count": 1,
   "id": "f14f24fa",
   "metadata": {},
   "outputs": [
    {
     "data": {
      "text/plain": [
       "-1"
      ]
     },
     "execution_count": 1,
     "metadata": {},
     "output_type": "execute_result"
    }
   ],
   "source": [
    "import cv2                    # importing open cv modeule\n",
    "img = cv2.imread('image.jpg') # reading the desired image and storing in img \n",
    "cv2.imshow('Output',img)      # displaying the read image \n",
    "cv2.waitKey(0)               #holding the output window cv2.waitKey(milliseconds)"
   ]
  },
  {
   "cell_type": "code",
   "execution_count": null,
   "id": "907f749c",
   "metadata": {},
   "outputs": [],
   "source": []
  }
 ],
 "metadata": {
  "kernelspec": {
   "display_name": "Python 3 (ipykernel)",
   "language": "python",
   "name": "python3"
  },
  "language_info": {
   "codemirror_mode": {
    "name": "ipython",
    "version": 3
   },
   "file_extension": ".py",
   "mimetype": "text/x-python",
   "name": "python",
   "nbconvert_exporter": "python",
   "pygments_lexer": "ipython3",
   "version": "3.9.9"
  }
 },
 "nbformat": 4,
 "nbformat_minor": 5
}
