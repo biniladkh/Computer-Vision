{
 "cells": [
  {
   "cell_type": "code",
   "execution_count": 2,
   "id": "f939477f",
   "metadata": {},
   "outputs": [],
   "source": [
    "import cv2                                        # importing opencv \n",
    "cap = cv2.VideoCapture('video.mp4')               # creating a videocaptire instance to read video\n",
    "while True:                                       # video is the sequence of images so reading multiple frames\n",
    "    _,frame = cap.read()                          # two variables returns success and frame\n",
    "    cv2.imshow('Output',frame)                    # displaying the read video\n",
    "    if cv2.waitKey(1) & 0xff == ord('q'):\n",
    "        break\n",
    "        "
   ]
  },
  {
   "cell_type": "markdown",
   "id": "e0836af5",
   "metadata": {},
   "source": [
    "# Reading from webcam"
   ]
  },
  {
   "cell_type": "code",
   "execution_count": 1,
   "id": "5de72957",
   "metadata": {},
   "outputs": [],
   "source": [
    "import cv2                                        # importing opencv \n",
    "cap = cv2.VideoCapture(0)                         # creating a videocaptire instance to read video from webcam \n",
    "cap.set(3,640)                                    # setting the width to 640 px \n",
    "cap.set(4,480)                                    # setting the height to 480 px \n",
    "cap.set(10,100)                                   # setting the brightness\n",
    "while True:                                       # video is the sequence of images so reading multiple frames\n",
    "    _,frame = cap.read()                          # two variables returns success and frame\n",
    "    cv2.imshow('Output',frame)                    # displaying the read video\n",
    "    if cv2.waitKey(1) & 0xff == ord('q'):\n",
    "        break\n",
    "        "
   ]
  },
  {
   "cell_type": "code",
   "execution_count": null,
   "id": "f7b728c0",
   "metadata": {},
   "outputs": [],
   "source": []
  }
 ],
 "metadata": {
  "kernelspec": {
   "display_name": "Python 3 (ipykernel)",
   "language": "python",
   "name": "python3"
  },
  "language_info": {
   "codemirror_mode": {
    "name": "ipython",
    "version": 3
   },
   "file_extension": ".py",
   "mimetype": "text/x-python",
   "name": "python",
   "nbconvert_exporter": "python",
   "pygments_lexer": "ipython3",
   "version": "3.9.9"
  }
 },
 "nbformat": 4,
 "nbformat_minor": 5
}
